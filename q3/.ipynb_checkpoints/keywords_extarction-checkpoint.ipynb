{
 "cells": [
  {
   "cell_type": "code",
   "execution_count": 48,
   "id": "6334d537",
   "metadata": {},
   "outputs": [],
   "source": [
    "from nltk.corpus import wordnet as wn\n",
    "from nltk.stem import WordNetLemmatizer\n",
    "  \n",
    "lemmatizer = WordNetLemmatizer()"
   ]
  },
  {
   "cell_type": "code",
   "execution_count": 110,
   "id": "97441895",
   "metadata": {},
   "outputs": [
    {
     "name": "stderr",
     "output_type": "stream",
     "text": [
      "[nltk_data] Downloading package stopwords to\n",
      "[nltk_data]     C:\\Users\\65877\\AppData\\Roaming\\nltk_data...\n",
      "[nltk_data]   Unzipping corpora\\stopwords.zip.\n"
     ]
    },
    {
     "data": {
      "text/plain": [
       "True"
      ]
     },
     "execution_count": 110,
     "metadata": {},
     "output_type": "execute_result"
    }
   ],
   "source": [
    "import nltk\n",
    "nltk.download('stopwords')"
   ]
  },
  {
   "cell_type": "code",
   "execution_count": 114,
   "id": "2384866a",
   "metadata": {},
   "outputs": [],
   "source": [
    "from textblob import TextBlob\n",
    "from textblob import Word\n",
    "from nltk.corpus import stopwords\n",
    "stop_words = set(stopwords.words('english'))"
   ]
  },
  {
   "cell_type": "markdown",
   "id": "00b877bc",
   "metadata": {},
   "source": [
    "# add new field"
   ]
  },
  {
   "cell_type": "code",
   "execution_count": 115,
   "id": "6baadaa4",
   "metadata": {},
   "outputs": [
    {
     "name": "stdout",
     "output_type": "stream",
     "text": [
      "{'movie_Name': 'The Last of Us', 'movie_Id': 'tt3581920', 'movie_Poster': 'https://m.media-amazon.com/images/M/MV5BZGUzYTI3M2EtZmM0Yy00NGUyLWI4ODEtN2Q3ZGJlYzhhZjU3XkEyXkFqcGdeQXVyNTM0OTY1OQ@@._V1_QL75_UX190_CR0,0,190,281_.jpg', 'movie_name': 'The Last of Us', 'movie_id': 'tt3581920', 'movie_dis': \"After a global pandemic destroys civilization, a hardened survivor takes charge of a 14-year-old girl who may be humanity's last hope.\", 'movie_year': '2023', 'movie_director_cast': ['Pedro Pascal', 'Bella Ramsey', 'Anna Torv', 'Lamar Johnson'], 'movie_tags': 'Action, Adventure, Drama', 'movie_star': '8.9', 'movie_dis_keywords': ['global', 'pandemic', 'destroys', 'civilization', 'hardened', 'survivor', 'take', 'charge', '14-year-old', 'girl', 'humanity', 'last', 'hope']}\n",
      "{'movie_Name': 'Everything Everywhere All at Once', 'movie_Id': 'tt6710474', 'movie_Poster': 'https://m.media-amazon.com/images/M/MV5BYTdiOTIyZTQtNmQ1OS00NjZlLWIyMTgtYzk5Y2M3ZDVmMDk1XkEyXkFqcGdeQXVyMTAzMDg4NzU0._V1_QL75_UY281_CR2,0,190,281_.jpg', 'movie_name': 'Everything Everywhere All at Once', 'movie_id': 'tt6710474', 'movie_dis': 'A middle-aged Chinese immigrant is swept up into an insane adventure in which she alone can save existence by exploring other universes and connecting with the lives she could have led.', 'movie_year': '2022', 'movie_director_cast': ['Daniel Kwan', 'Daniel Scheinert', 'Michelle Yeoh', 'Stephanie Hsu', 'Jamie Lee Curtis', 'Ke Huy Quan'], 'movie_tags': 'Action, Adventure, Comedy', 'movie_star': '7.9', 'movie_dis_keywords': ['middle-aged', 'Chinese', 'immigrant', 'swept', 'insane', 'adventure', 'save', 'existence', 'exploring', 'universe', 'connecting', 'life', 'led']}\n",
      "{'movie_Name': 'The Mandalorian', 'movie_Id': 'tt8111088', 'movie_Poster': 'https://m.media-amazon.com/images/M/MV5BZjRlZDIyNDMtZjIwYi00YmJiLTg4NjMtODA2Mjc0YTBlNzIwXkEyXkFqcGdeQXVyMDM2NDM2MQ@@._V1_QL75_UX190_CR0,0,190,281_.jpg', 'movie_name': 'The Mandalorian', 'movie_id': 'tt8111088', 'movie_dis': 'The travels of a lone bounty hunter in the outer reaches of the galaxy, far from the authority of the New Republic.', 'movie_year': '2019', 'movie_director_cast': ['Pedro Pascal', 'Katee Sackhoff', 'Carl Weathers', 'Chris Bartlett'], 'movie_tags': 'Action, Adventure, Fantasy', 'movie_star': '8.7', 'movie_dis_keywords': ['travel', 'lone', 'bounty', 'hunter', 'outer', 'reach', 'galaxy', 'authority', 'New', 'Republic']}\n",
      "{'movie_Name': 'Scream VI', 'movie_Id': 'tt17663992', 'movie_Poster': 'https://m.media-amazon.com/images/M/MV5BODBjM2M4YTQtNmJlMS00MGU2LWI4ZGYtZTA1MzdmZDAyMjFkXkEyXkFqcGdeQXVyODE5NzE3OTE@._V1_QL75_UX190_CR0,0,190,281_.jpg', 'movie_name': 'Scream VI', 'movie_id': 'tt17663992', 'movie_dis': 'In the next installment, the survivors of the Ghostface killings leave Woodsboro behind and start a fresh chapter in New York City.', 'movie_year': '2023', 'movie_director_cast': ['Matt Bettinelli-Olpin', 'Tyler Gillett', 'Courteney Cox', 'Melissa Barrera', 'Jenna Ortega', 'Jasmin Savoy Brown'], 'movie_tags': 'Horror, Mystery, Thriller', 'movie_star': '7.2', 'movie_dis_keywords': ['next', 'installment', 'survivor', 'Ghostface', 'killing', 'leave', 'Woodsboro', 'behind', 'start', 'fresh', 'chapter', 'New', 'York', 'City']}\n",
      "{'movie_Name': 'The Whale', 'movie_Id': 'tt13833688', 'movie_Poster': 'https://m.media-amazon.com/images/M/MV5BZDQ4Njg4YTctNGZkYi00NWU1LWI4OTYtNmNjOWMyMjI1NWYzXkEyXkFqcGdeQXVyMTA3MDk2NDg2._V1_QL75_UY281_CR4,0,190,281_.jpg', 'movie_name': 'The Whale', 'movie_id': 'tt13833688', 'movie_dis': 'A reclusive, morbidly obese English teacher attempts to reconnect with his estranged teenage daughter.', 'movie_year': '2022', 'movie_director_cast': ['Darren Aronofsky', 'Brendan Fraser', 'Sadie Sink', 'Ty Simpkins', 'Hong Chau'], 'movie_tags': 'Drama', 'movie_star': '7.8', 'movie_dis_keywords': ['reclusive', 'obese', 'English', 'teacher', 'attempt', 'reconnect', 'estranged', 'teenage', 'daughter']}\n",
      "{'movie_Name': 'You', 'movie_Id': 'tt7335184', 'movie_Poster': 'https://m.media-amazon.com/images/M/MV5BNGZjZDc3NjAtYjI1OC00NWUzLWIxOWItNzUyODc5NDIwMWRjXkEyXkFqcGdeQXVyNTQ4ODA2NzQ@._V1_QL75_UY281_CR18,0,190,281_.jpg', 'movie_name': 'You', 'movie_id': 'tt7335184', 'movie_dis': 'A dangerously charming, intensely obsessive young man goes to extreme measures to insert himself into the lives of those he is transfixed by.', 'movie_year': '2018', 'movie_director_cast': ['Penn Badgley', 'Victoria Pedretti', 'Tati Gabrielle', 'Ambyr Childers'], 'movie_tags': 'Crime, Drama, Romance', 'movie_star': '7.7', 'movie_dis_keywords': ['charming', 'obsessive', 'young', 'man', 'go', 'extreme', 'measure', 'insert', 'life', 'transfixed']}\n",
      "{'movie_Name': 'Luther: The Fallen Sun', 'movie_Id': 'tt3155298', 'movie_Poster': 'https://m.media-amazon.com/images/M/MV5BZTQwMWFhYWMtZmE0OS00MmMxLWE3NzAtYjU1NzIyZjdmODNhXkEyXkFqcGdeQXVyNjY1MTg4Mzc@._V1_QL75_UX190_CR0,0,190,281_.jpg', 'movie_name': 'Luther: The Fallen Sun', 'movie_id': 'tt3155298', 'movie_dis': 'Brilliant but disgraced detective John Luther breaks out of prison to hunt down a sadistic serial killer who is terrorising London.', 'movie_year': '2023', 'movie_director_cast': ['Jamie Payne', 'Idris Elba', 'Cynthia Erivo', 'Andy Serkis', 'Dermot Crowley'], 'movie_tags': 'Crime, Drama, Mystery', 'movie_star': '6.4', 'movie_dis_keywords': ['Brilliant', 'disgraced', 'detective', 'John', 'Luther', 'break', 'prison', 'hunt', 'sadistic', 'serial', 'killer', 'terrorising', 'London']}\n",
      "{'movie_Name': 'Cocaine Bear', 'movie_Id': 'tt14209916', 'movie_Poster': 'https://m.media-amazon.com/images/M/MV5BODAwZDQ5ZjEtZDI1My00MTFiLTg0ZjUtOGE2YTBkOTdjODFhXkEyXkFqcGdeQXVyODE5NzE3OTE@._V1_QL75_UY281_CR0,0,190,281_.jpg', 'movie_name': 'Cocaine Bear', 'movie_id': 'tt14209916', 'movie_dis': 'An oddball group of cops, criminals, tourists and teens converge on a Georgia forest where a huge black bear goes on a murderous rampage after unintentionally ingesting cocaine.', 'movie_year': '2023', 'movie_director_cast': ['Elizabeth Banks', 'Keri Russell', 'Alden Ehrenreich', \"O'Shea Jackson Jr.\", 'Ray Liotta'], 'movie_tags': 'Comedy, Thriller', 'movie_star': '6.1', 'movie_dis_keywords': ['oddball', 'group', 'cop', 'criminal', 'tourist', 'teen', 'converge', 'Georgia', 'forest', 'huge', 'black', 'bear', 'go', 'murderous', 'rampage', 'ingesting', 'cocaine']}\n",
      "{'movie_Name': 'Ted Lasso', 'movie_Id': 'tt10986410', 'movie_Poster': 'https://m.media-amazon.com/images/M/MV5BMTdmZjBjZjQtY2JiNS00Y2ZlLTg2NzgtMjUzMGY2OTVmOWJiXkEyXkFqcGdeQXVyMDM2NDM2MQ@@._V1_QL75_UX190_CR0,0,190,281_.jpg', 'movie_name': 'Ted Lasso', 'movie_id': 'tt10986410', 'movie_dis': 'American college football coach Ted Lasso heads to London to manage AFC Richmond, a struggling English Premier League football team.', 'movie_year': '2020', 'movie_director_cast': ['Jason Sudeikis', 'Brett Goldstein', 'Brendan Hunt', 'Nick Mohammed'], 'movie_tags': 'Comedy, Drama, Sport', 'movie_star': '8.8', 'movie_dis_keywords': ['American', 'college', 'football', 'coach', 'Ted', 'Lasso', 'head', 'London', 'manage', 'AFC', 'Richmond', 'struggling', 'English', 'Premier', 'League', 'football', 'team']}\n",
      "{'movie_Name': 'Shazam! Fury of the Gods', 'movie_Id': 'tt10151854', 'movie_Poster': 'https://m.media-amazon.com/images/M/MV5BNzJlM2NmZTItOGQyYS00MmE2LTkwZGUtNDFkNmJmZjRjZjcxXkEyXkFqcGdeQXVyMTA3MDk2NDg2._V1_QL75_UX190_CR0,0,190,281_.jpg', 'movie_name': 'Shazam! Fury of the Gods', 'movie_id': 'tt10151854', 'movie_dis': 'The film continues the story of teenage Billy Batson who, upon reciting the magic word SHAZAM! is transformed into his adult Super Hero alter ego, Shazam.', 'movie_year': '2023', 'movie_director_cast': ['David F. Sandberg', 'Zachary Levi', 'Asher Angel', 'Jack Dylan Grazer', 'Rachel Zegler'], 'movie_tags': 'Action, Adventure, Comedy', 'movie_star': '6.6', 'movie_dis_keywords': ['film', 'continues', 'story', 'teenage', 'Billy', 'Batson', 'reciting', 'magic', 'word', 'SHAZAM', 'transformed', 'adult', 'Super', 'Hero', 'alter', 'ego', 'Shazam']}\n"
     ]
    }
   ],
   "source": [
    "import json\n",
    "\n",
    "# Opening JSON file\n",
    "f = open('merged.json')\n",
    "  \n",
    "# returns JSON object as \n",
    "# a dictionary\n",
    "data = json.load(f)\n",
    "  \n",
    "# Iterating through the json\n",
    "# list\n",
    "for row in data:\n",
    "    text = row['movie_dis']\n",
    "    tokens = [w for (w, pos) in TextBlob(text).pos_tags if (pos[0] == 'V' or pos[0] == 'N' or pos[0] == 'J') ]\n",
    "    lemm = []\n",
    "    for token in tokens:\n",
    "        if token not in stop_words:\n",
    "            lemm.append(lemmatizer.lemmatize(token))\n",
    "    row['movie_dis_keywords'] = lemm\n",
    "    \n",
    "for i in range(10):\n",
    "    print(data[i])\n",
    "    "
   ]
  },
  {
   "cell_type": "code",
   "execution_count": 118,
   "id": "f6cc1027",
   "metadata": {},
   "outputs": [],
   "source": [
    "with open(\"merged_with_keywords.json\", \"w\") as fp:\n",
    "    json.dump(data,fp) "
   ]
  },
  {
   "cell_type": "code",
   "execution_count": null,
   "id": "f8ae75b2",
   "metadata": {},
   "outputs": [],
   "source": [
    "# Closing file\n",
    "f.close()"
   ]
  }
 ],
 "metadata": {
  "kernelspec": {
   "display_name": "Python 3 (ipykernel)",
   "language": "python",
   "name": "python3"
  },
  "language_info": {
   "codemirror_mode": {
    "name": "ipython",
    "version": 3
   },
   "file_extension": ".py",
   "mimetype": "text/x-python",
   "name": "python",
   "nbconvert_exporter": "python",
   "pygments_lexer": "ipython3",
   "version": "3.10.9"
  }
 },
 "nbformat": 4,
 "nbformat_minor": 5
}
