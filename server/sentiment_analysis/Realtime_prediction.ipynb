{
 "cells": [
  {
   "cell_type": "code",
   "execution_count": 3,
   "id": "8d64dad8",
   "metadata": {},
   "outputs": [],
   "source": [
    "import pickle\n",
    "from sklearn.feature_extraction.text import CountVectorizer\n",
    "\n",
    "# Load the saved model from a file\n",
    "\n",
    "with open('my_model.pkl', 'rb') as file:\n",
    "    clf_loaded = pickle.load(file)\n",
    "\n",
    "# Load the vocabulary and ngram range from a file\n",
    "with open('count_vec.pkl', 'rb') as file:\n",
    "    vocabulary, ngram_range = pickle.load(file)\n",
    "\n",
    "# Initialize a new CountVectorizer with the saved vocabulary and ngram range\n",
    "new_count_vec = CountVectorizer(vocabulary=vocabulary, ngram_range=ngram_range)"
   ]
  },
  {
   "cell_type": "code",
   "execution_count": 4,
   "id": "0276d81a",
   "metadata": {},
   "outputs": [],
   "source": [
    "\n",
    "def convert2count_vec(review):\n",
    "    test_review = new_count_vec.transform([review])\n",
    "    return test_review"
   ]
  },
  {
   "cell_type": "code",
   "execution_count": 5,
   "id": "2186de69",
   "metadata": {},
   "outputs": [],
   "source": [
    "# Use the loaded model to make predictions\n",
    "test_review = convert2count_vec(\"this was a very bad movie but it had a pretty good ending\")"
   ]
  },
  {
   "cell_type": "code",
   "execution_count": 6,
   "id": "91c6dd72",
   "metadata": {},
   "outputs": [
    {
     "name": "stdout",
     "output_type": "stream",
     "text": [
      "['Positive']\n"
     ]
    }
   ],
   "source": [
    "predictions = clf_loaded.predict(test_review)\n",
    "print(predictions)"
   ]
  },
  {
   "cell_type": "code",
   "execution_count": null,
   "id": "1cfb5878",
   "metadata": {},
   "outputs": [],
   "source": []
  }
 ],
 "metadata": {
  "kernelspec": {
   "display_name": "Python 3 (ipykernel)",
   "language": "python",
   "name": "python3"
  },
  "language_info": {
   "codemirror_mode": {
    "name": "ipython",
    "version": 3
   },
   "file_extension": ".py",
   "mimetype": "text/x-python",
   "name": "python",
   "nbconvert_exporter": "python",
   "pygments_lexer": "ipython3",
   "version": "3.8.3"
  }
 },
 "nbformat": 4,
 "nbformat_minor": 5
}
